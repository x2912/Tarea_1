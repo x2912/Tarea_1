{
  "nbformat": 4,
  "nbformat_minor": 0,
  "metadata": {
    "colab": {
      "name": "Untitled1.ipynb",
      "provenance": [],
      "authorship_tag": "ABX9TyNH3gNgaidgWD+rEr5PSIl6",
      "include_colab_link": true
    },
    "kernelspec": {
      "name": "python3",
      "display_name": "Python 3"
    }
  },
  "cells": [
    {
      "cell_type": "markdown",
      "metadata": {
        "id": "view-in-github",
        "colab_type": "text"
      },
      "source": [
        "<a href=\"https://colab.research.google.com/github/x2912/Tarea_1/blob/main/Untitled1.ipynb\" target=\"_parent\"><img src=\"https://colab.research.google.com/assets/colab-badge.svg\" alt=\"Open In Colab\"/></a>"
      ]
    },
    {
      "cell_type": "code",
      "metadata": {
        "colab": {
          "base_uri": "https://localhost:8080/"
        },
        "id": "BUSaD0a1zZpB",
        "outputId": "b4603d6d-fe34-49a2-84c4-cd310a037040"
      },
      "source": [
        "Nombre1= input (\"Ingresar primer nombre: \")\r\n",
        "Nombre2= input (\"Ingresar segundo nombre (si tiene): \")\r\n",
        "Apellido1= input (\"Ingresar primer apellido: \")\r\n",
        "Apellido2= input (\"Ingresar segundo apellido: \")\r\n",
        "Nombre_com= Nombre1 + Nombre2 + Apellido1 + Apellido2\r\n",
        "print (\"Nombre completo: \", Nombre_com)"
      ],
      "execution_count": 1,
      "outputs": [
        {
          "output_type": "stream",
          "text": [
            "Ingresar primer nombre: Laura\n",
            "Ingresar segundo nombre (si tiene): Ximena \n",
            "Ingresar primer apellido: Lopez \n",
            "Ingresar segundo apellido: Gonzalez\n",
            "Nombre completo:  LauraXimena Lopez Gonzalez\n"
          ],
          "name": "stdout"
        }
      ]
    }
  ]
}